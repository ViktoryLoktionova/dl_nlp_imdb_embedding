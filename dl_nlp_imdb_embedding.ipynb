{
  "nbformat": 4,
  "nbformat_minor": 0,
  "metadata": {
    "colab": {
      "name": "dl_nlp_imdb_embedding.ipynb",
      "provenance": [],
      "collapsed_sections": [],
      "authorship_tag": "ABX9TyMatzTvtJIT2oOoW6qqcXXH",
      "include_colab_link": true
    },
    "kernelspec": {
      "name": "python3",
      "display_name": "Python 3"
    },
    "language_info": {
      "name": "python"
    },
    "accelerator": "GPU"
  },
  "cells": [
    {
      "cell_type": "markdown",
      "metadata": {
        "id": "view-in-github",
        "colab_type": "text"
      },
      "source": [
        "<a href=\"https://colab.research.google.com/github/ViktoryLoktionova/dl_nlp_imdb_embedding/blob/main/dl_nlp_imdb_embedding.ipynb\" target=\"_parent\"><img src=\"https://colab.research.google.com/assets/colab-badge.svg\" alt=\"Open In Colab\"/></a>"
      ]
    },
    {
      "cell_type": "code",
      "metadata": {
        "id": "ZROdeMz2G-4j"
      },
      "source": [
        "from tensorflow.keras.datasets import imdb\n",
        "from tensorflow.keras.models import Sequential\n",
        "from tensorflow.keras.layers import Dense, Embedding, Flatten, Dropout\n",
        "from tensorflow.keras import utils\n",
        "from tensorflow.keras.preprocessing.sequence import pad_sequences\n",
        "import numpy as np\n",
        "import matplotlib.pyplot as plt\n",
        "from google.colab import files\n",
        "%matplotlib inline "
      ],
      "execution_count": 61,
      "outputs": []
    },
    {
      "cell_type": "code",
      "metadata": {
        "id": "lo3nNbykHFP3"
      },
      "source": [
        "max_words = 10000"
      ],
      "execution_count": 62,
      "outputs": []
    },
    {
      "cell_type": "code",
      "metadata": {
        "id": "f9btp3CZHP5Y"
      },
      "source": [
        "(x_train, y_train), (x_test, y_test) = imdb.load_data(num_words=max_words)"
      ],
      "execution_count": 63,
      "outputs": []
    },
    {
      "cell_type": "code",
      "metadata": {
        "id": "acuOVm28HeCf"
      },
      "source": [
        "x_train[3]"
      ],
      "execution_count": null,
      "outputs": []
    },
    {
      "cell_type": "code",
      "metadata": {
        "colab": {
          "base_uri": "https://localhost:8080/"
        },
        "id": "6nTPlmZKHiW_",
        "outputId": "6350a829-06b9-4c7e-a99e-4a1997fd897d"
      },
      "source": [
        "y_train[3]"
      ],
      "execution_count": 33,
      "outputs": [
        {
          "output_type": "execute_result",
          "data": {
            "text/plain": [
              "1"
            ]
          },
          "metadata": {},
          "execution_count": 33
        }
      ]
    },
    {
      "cell_type": "code",
      "metadata": {
        "id": "5FaPA1TTHjmZ"
      },
      "source": [
        "maxlen = 200"
      ],
      "execution_count": 64,
      "outputs": []
    },
    {
      "cell_type": "code",
      "metadata": {
        "id": "7-8BG5irHm_t"
      },
      "source": [
        "x_train = pad_sequences(x_train, maxlen=maxlen, padding = 'post')\n",
        "x_train = pad_sequences(x_test, maxlen=maxlen, padding = 'post')"
      ],
      "execution_count": 65,
      "outputs": []
    },
    {
      "cell_type": "code",
      "metadata": {
        "colab": {
          "base_uri": "https://localhost:8080/"
        },
        "id": "2yeo8sYNH0O9",
        "outputId": "491ec6e2-4805-4c3f-d8ea-5f35eeefb9f5"
      },
      "source": [
        "x_train[3]"
      ],
      "execution_count": 66,
      "outputs": [
        {
          "output_type": "execute_result",
          "data": {
            "text/plain": [
              "array([   1,   13, 1228,  119,   14,  552,    7,   20,  190,   14,   58,\n",
              "         13,  258,  546, 1786,    8, 1968,    4,  268,  237,   13,  191,\n",
              "         81,   15,   13,   80,   43, 3824,   44,   12,   14,   16,  427,\n",
              "       3192,    4,  183,   15,  593,   19,    4,  351,  362,   26,   55,\n",
              "        646,   21,    4, 1239,   84,   26, 1557, 3755,   13,  244,    6,\n",
              "       2071,  132,  184,  194,    5,   13,   70, 4478,  546,   73,  190,\n",
              "         13,   62,   24,   81,  320,    4,  538,    4,  117,  250,  127,\n",
              "         11,   14,   20,   82,    4,  452,   11,   14,   20,    9, 8654,\n",
              "         19,   41,  476,    8,    4,  213,    7, 9185,   13,  657,   13,\n",
              "        286,   38, 1612,   44,   41,    5,   41, 1729,   88,   13,   62,\n",
              "         28,  900,  510,    4,  509,   51,    6,  612,   59,   16,  193,\n",
              "         61, 4666,    5,  702,  930,  143,  285,   25,   67,   41,   81,\n",
              "        366,    4,  130,   82,    9,  259,  334,  397, 1195,    7,  149,\n",
              "        102,   15,   26,  814,   38,  465, 1627,   31,   70,  983,   67,\n",
              "         51,    9,  112,  814,   17,   35,  311,   75,   26,    2,  574,\n",
              "         19,    4, 1729,   23,    4,  268,   38,   95,  138,    4,  609,\n",
              "        191,   75,   28,  314, 1772,    0,    0,    0,    0,    0,    0,\n",
              "          0,    0,    0,    0,    0,    0,    0,    0,    0,    0,    0,\n",
              "          0,    0], dtype=int32)"
            ]
          },
          "metadata": {},
          "execution_count": 66
        }
      ]
    },
    {
      "cell_type": "code",
      "metadata": {
        "colab": {
          "base_uri": "https://localhost:8080/"
        },
        "id": "C556pVHtH5UX",
        "outputId": "08aeecea-0c5a-4788-d124-67b9ae1617b3"
      },
      "source": [
        "y_train[3]"
      ],
      "execution_count": 67,
      "outputs": [
        {
          "output_type": "execute_result",
          "data": {
            "text/plain": [
              "1"
            ]
          },
          "metadata": {},
          "execution_count": 67
        }
      ]
    },
    {
      "cell_type": "code",
      "metadata": {
        "id": "-TfHIIxOH8ya"
      },
      "source": [
        "model = Sequential()\n",
        "model.add(Embedding(max_words, 2, input_length=maxlen))\n",
        "model.add(Dropout(0.25))\n",
        "model.add(Flatten())\n",
        "model.add(Dense(1, activation='sigmoid'))"
      ],
      "execution_count": 68,
      "outputs": []
    },
    {
      "cell_type": "code",
      "metadata": {
        "id": "Kjz-K19JIh1f"
      },
      "source": [
        "model.compile(optimizer='adam', \n",
        "              loss='binary_crossentropy', \n",
        "              metrics=['accuracy'])"
      ],
      "execution_count": 69,
      "outputs": []
    },
    {
      "cell_type": "code",
      "metadata": {
        "colab": {
          "base_uri": "https://localhost:8080/"
        },
        "id": "a86eCiaWIvgN",
        "outputId": "7711fb2d-7cd2-4dd1-b398-00af9912b407"
      },
      "source": [
        "history = model.fit(x_train, \n",
        "                    y_train, \n",
        "                    epochs=15,\n",
        "                    batch_size=128,\n",
        "                    validation_split=0.1)"
      ],
      "execution_count": 70,
      "outputs": [
        {
          "output_type": "stream",
          "name": "stdout",
          "text": [
            "Epoch 1/15\n",
            "176/176 [==============================] - 2s 8ms/step - loss: 0.6934 - accuracy: 0.4996 - val_loss: 0.6931 - val_accuracy: 0.5024\n",
            "Epoch 2/15\n",
            "176/176 [==============================] - 1s 7ms/step - loss: 0.6890 - accuracy: 0.5690 - val_loss: 0.6934 - val_accuracy: 0.5072\n",
            "Epoch 3/15\n",
            "176/176 [==============================] - 1s 7ms/step - loss: 0.6827 - accuracy: 0.6049 - val_loss: 0.6946 - val_accuracy: 0.4916\n",
            "Epoch 4/15\n",
            "176/176 [==============================] - 1s 7ms/step - loss: 0.6717 - accuracy: 0.6362 - val_loss: 0.6964 - val_accuracy: 0.4924\n",
            "Epoch 5/15\n",
            "176/176 [==============================] - 1s 7ms/step - loss: 0.6570 - accuracy: 0.6564 - val_loss: 0.7000 - val_accuracy: 0.4888\n",
            "Epoch 6/15\n",
            "176/176 [==============================] - 1s 7ms/step - loss: 0.6396 - accuracy: 0.6772 - val_loss: 0.7045 - val_accuracy: 0.4944\n",
            "Epoch 7/15\n",
            "176/176 [==============================] - 1s 7ms/step - loss: 0.6189 - accuracy: 0.6974 - val_loss: 0.7112 - val_accuracy: 0.4984\n",
            "Epoch 8/15\n",
            "176/176 [==============================] - 1s 7ms/step - loss: 0.5998 - accuracy: 0.7148 - val_loss: 0.7185 - val_accuracy: 0.4984\n",
            "Epoch 9/15\n",
            "176/176 [==============================] - 1s 7ms/step - loss: 0.5814 - accuracy: 0.7240 - val_loss: 0.7273 - val_accuracy: 0.4940\n",
            "Epoch 10/15\n",
            "176/176 [==============================] - 1s 6ms/step - loss: 0.5653 - accuracy: 0.7342 - val_loss: 0.7355 - val_accuracy: 0.4972\n",
            "Epoch 11/15\n",
            "176/176 [==============================] - 1s 7ms/step - loss: 0.5503 - accuracy: 0.7413 - val_loss: 0.7458 - val_accuracy: 0.5000\n",
            "Epoch 12/15\n",
            "176/176 [==============================] - 1s 7ms/step - loss: 0.5365 - accuracy: 0.7469 - val_loss: 0.7567 - val_accuracy: 0.4964\n",
            "Epoch 13/15\n",
            "176/176 [==============================] - 1s 7ms/step - loss: 0.5222 - accuracy: 0.7580 - val_loss: 0.7667 - val_accuracy: 0.5056\n",
            "Epoch 14/15\n",
            "176/176 [==============================] - 1s 7ms/step - loss: 0.5102 - accuracy: 0.7670 - val_loss: 0.7770 - val_accuracy: 0.4996\n",
            "Epoch 15/15\n",
            "176/176 [==============================] - 1s 7ms/step - loss: 0.4985 - accuracy: 0.7726 - val_loss: 0.7881 - val_accuracy: 0.4992\n"
          ]
        }
      ]
    },
    {
      "cell_type": "code",
      "metadata": {
        "colab": {
          "base_uri": "https://localhost:8080/",
          "height": 279
        },
        "id": "Icl912ZqJIVg",
        "outputId": "697ec690-7a0a-4605-9de8-dedd5c3207ef"
      },
      "source": [
        "plt.plot(history.history['accuracy'], \n",
        "         label='Доля верных ответов на обучающем наборе')\n",
        "plt.plot(history.history['val_accuracy'], \n",
        "         label='Доля верных ответов на проверочном наборе')\n",
        "plt.xlabel('Эпоха обучения')\n",
        "plt.ylabel('Доля верных ответов')\n",
        "plt.legend()\n",
        "plt.show()"
      ],
      "execution_count": 71,
      "outputs": [
        {
          "output_type": "display_data",
          "data": {
            "image/png": "[encoded data removed]",
            "text/plain": [
              "<Figure size 432x288 with 1 Axes>"
            ]
          },
          "metadata": {
            "needs_background": "light"
          }
        }
      ]
    },
    {
      "cell_type": "code",
      "metadata": {
        "id": "furR101KL6pF"
      },
      "source": [
        "embedding_matrix = model.layers[0].get_weights()[0]"
      ],
      "execution_count": 74,
      "outputs": []
    },
    {
      "cell_type": "code",
      "metadata": {
        "colab": {
          "base_uri": "https://localhost:8080/"
        },
        "id": "bpno7966NUgP",
        "outputId": "cacf7e5f-ba9f-4bda-d986-e7aefbd1a5ca"
      },
      "source": [
        "embedding_matrix[:5]"
      ],
      "execution_count": 75,
      "outputs": [
        {
          "output_type": "execute_result",
          "data": {
            "text/plain": [
              "array([[-0.0042813 ,  0.00276577],\n",
              "       [-0.00988778, -0.07209501],\n",
              "       [-0.00879982, -0.00693782],\n",
              "       [ 0.01753977, -0.00203763],\n",
              "       [-0.00875492,  0.01621618]], dtype=float32)"
            ]
          },
          "metadata": {},
          "execution_count": 75
        }
      ]
    },
    {
      "cell_type": "code",
      "metadata": {
        "colab": {
          "base_uri": "https://localhost:8080/"
        },
        "id": "_wQu12G8NYrj",
        "outputId": "bc6d40dc-f773-4447-cb24-14c44d060ec5"
      },
      "source": [
        "word_index_org = imdb.get_word_index()"
      ],
      "execution_count": 76,
      "outputs": [
        {
          "output_type": "stream",
          "name": "stdout",
          "text": [
            "Downloading data from https://storage.googleapis.com/tensorflow/tf-keras-datasets/imdb_word_index.json\n",
            "1646592/1641221 [==============================] - 0s 0us/step\n",
            "1654784/1641221 [==============================] - 0s 0us/step\n"
          ]
        }
      ]
    },
    {
      "cell_type": "code",
      "metadata": {
        "id": "AE5Uxf6iNb1j"
      },
      "source": [
        "word_index = dict()\n",
        "for word,number in word_index_org.items():\n",
        "    word_index[word] = number + 3\n",
        "word_index[\"<Заполнитель>\"] = 0\n",
        "word_index[\"<Начало последовательности>\"] = 1\n",
        "word_index[\"<Неизвестное слово>\"] = 2  \n",
        "word_index[\"<Не используется>\"] = 3"
      ],
      "execution_count": 77,
      "outputs": []
    },
    {
      "cell_type": "code",
      "metadata": {
        "colab": {
          "base_uri": "https://localhost:8080/"
        },
        "id": "P3p8lBy5Nfbd",
        "outputId": "7df1e637-0686-42e1-fbd8-db9c2778fefd"
      },
      "source": [
        "word = 'good'\n",
        "word_number = word_index[word]\n",
        "print('Номер слова', word_number)\n",
        "print('Вектор для слова', embedding_matrix[word_number])"
      ],
      "execution_count": 78,
      "outputs": [
        {
          "output_type": "stream",
          "name": "stdout",
          "text": [
            "Номер слова 52\n",
            "Вектор для слова [0.08966786 0.05310123]\n"
          ]
        }
      ]
    },
    {
      "cell_type": "code",
      "metadata": {
        "id": "UIivz9SINjJG"
      },
      "source": [
        "reverse_word_index = dict()\n",
        "for key, value in word_index.items():\n",
        "    reverse_word_index[value] = key"
      ],
      "execution_count": 79,
      "outputs": []
    },
    {
      "cell_type": "code",
      "metadata": {
        "id": "uUx_fXqyNxEI"
      },
      "source": [
        "filename = 'imdb_embeddings.csv'"
      ],
      "execution_count": 80,
      "outputs": []
    },
    {
      "cell_type": "code",
      "metadata": {
        "id": "L7BxB2CjNy8a"
      },
      "source": [
        "with open(filename, 'w') as f:\n",
        "    for word_num in range(max_words):\n",
        "      word = reverse_word_index[word_num]\n",
        "      vec = embedding_matrix[word_num]\n",
        "      f.write(word + \",\")\n",
        "      f.write(','.join([str(x) for x in vec]) + \"\\n\")"
      ],
      "execution_count": 81,
      "outputs": []
    },
    {
      "cell_type": "code",
      "metadata": {
        "colab": {
          "base_uri": "https://localhost:8080/"
        },
        "id": "3rRzQq1FN2cp",
        "outputId": "df9f11ac-7270-40a4-9638-a07697ec9562"
      },
      "source": [
        "!head -n 20 $filename"
      ],
      "execution_count": 82,
      "outputs": [
        {
          "output_type": "stream",
          "name": "stdout",
          "text": [
            "<Заполнитель>,-0.004281305,0.0027657715\n",
            "<Начало последовательности>,-0.009887782,-0.072095014\n",
            "<Неизвестное слово>,-0.008799824,-0.0069378214\n",
            "<Не используется>,0.017539773,-0.0020376332\n",
            "the,-0.008754916,0.016216181\n",
            "and,0.007287048,0.0027808154\n",
            "a,0.006714573,-0.027805932\n",
            "of,0.023803996,-0.05402893\n",
            "to,-0.014136215,-0.019359844\n",
            "is,-0.018748462,0.013000021\n",
            "br,-0.0017711783,-0.022456247\n",
            "in,0.05427109,-0.014634923\n",
            "it,0.0060710865,-0.002601751\n",
            "i,0.011071086,0.04358856\n",
            "this,0.01339882,0.035592232\n",
            "that,0.012354349,-0.02211332\n",
            "was,0.004634709,0.019997135\n",
            "as,0.027603034,-0.039785914\n",
            "for,-0.029500172,-0.03308635\n",
            "with,0.029549478,0.008704872\n"
          ]
        }
      ]
    },
    {
      "cell_type": "code",
      "metadata": {
        "colab": {
          "base_uri": "https://localhost:8080/",
          "height": 17
        },
        "id": "agkUHAVON5p2",
        "outputId": "ead50681-0bf0-481f-ec02-62a8b6a4ad79"
      },
      "source": [
        "files.download('imdb_embeddings.csv')"
      ],
      "execution_count": 83,
      "outputs": [
        {
          "output_type": "display_data",
          "data": {
            "application/javascript": [
              "\n",
              "    async function download(id, filename, size) {\n",
              "      if (!google.colab.kernel.accessAllowed) {\n",
              "        return;\n",
              "      }\n",
              "      const div = document.createElement('div');\n",
              "      const label = document.createElement('label');\n",
              "      label.textContent = `Downloading \"${filename}\": `;\n",
              "      div.appendChild(label);\n",
              "      const progress = document.createElement('progress');\n",
              "      progress.max = size;\n",
              "      div.appendChild(progress);\n",
              "      document.body.appendChild(div);\n",
              "\n",
              "      const buffers = [];\n",
              "      let downloaded = 0;\n",
              "\n",
              "      const channel = await google.colab.kernel.comms.open(id);\n",
              "      // Send a message to notify the kernel that we're ready.\n",
              "      channel.send({})\n",
              "\n",
              "      for await (const message of channel.messages) {\n",
              "        // Send a message to notify the kernel that we're ready.\n",
              "        channel.send({})\n",
              "        if (message.buffers) {\n",
              "          for (const buffer of message.buffers) {\n",
              "            buffers.push(buffer);\n",
              "            downloaded += buffer.byteLength;\n",
              "            progress.value = downloaded;\n",
              "          }\n",
              "        }\n",
              "      }\n",
              "      const blob = new Blob(buffers, {type: 'application/binary'});\n",
              "      const a = document.createElement('a');\n",
              "      a.href = window.URL.createObjectURL(blob);\n",
              "      a.download = filename;\n",
              "      div.appendChild(a);\n",
              "      a.click();\n",
              "      div.remove();\n",
              "    }\n",
              "  "
            ],
            "text/plain": [
              "<IPython.core.display.Javascript object>"
            ]
          },
          "metadata": {}
        },
        {
          "output_type": "display_data",
          "data": {
            "application/javascript": [
              "download(\"download_801188ba-ec78-4672-8a17-9530ab6740df\", \"imdb_embeddings.csv\", 309718)"
            ],
            "text/plain": [
              "<IPython.core.display.Javascript object>"
            ]
          },
          "metadata": {}
        }
      ]
    },
    {
      "cell_type": "code",
      "metadata": {
        "colab": {
          "base_uri": "https://localhost:8080/",
          "height": 282
        },
        "id": "m7IcO1F4OZJs",
        "outputId": "b53bdb4c-fc04-451b-fe1f-4e15614be0a2"
      },
      "source": [
        "plt.scatter(embedding_matrix[:,0], embedding_matrix[:,1])"
      ],
      "execution_count": 84,
      "outputs": [
        {
          "output_type": "execute_result",
          "data": {
            "text/plain": [
              "<matplotlib.collections.PathCollection at 0x7fc81df1c450>"
            ]
          },
          "metadata": {},
          "execution_count": 84
        },
        {
          "output_type": "display_data",
          "data": {
            "image/png": "[encoded data removed]",
            "text/plain": [
              "<Figure size 432x288 with 1 Axes>"
            ]
          },
          "metadata": {
            "needs_background": "light"
          }
        }
      ]
    },
    {
      "cell_type": "code",
      "metadata": {
        "colab": {
          "base_uri": "https://localhost:8080/"
        },
        "id": "cHsMNTgYOejS",
        "outputId": "b92f4a63-2268-42dd-8a3d-8a55a0359981"
      },
      "source": [
        "review = ['brilliant', 'fantastic', 'amazing', 'good',\n",
        "          'bad', 'awful','crap', 'terrible', 'trash']\n",
        "enc_review = []\n",
        "for word in review:\n",
        "    enc_review.append(word_index[word])\n",
        "enc_review"
      ],
      "execution_count": 85,
      "outputs": [
        {
          "output_type": "execute_result",
          "data": {
            "text/plain": [
              "[530, 777, 480, 52, 78, 373, 595, 394, 1157]"
            ]
          },
          "metadata": {},
          "execution_count": 85
        }
      ]
    },
    {
      "cell_type": "code",
      "metadata": {
        "colab": {
          "base_uri": "https://localhost:8080/"
        },
        "id": "RIASHJPzOhPC",
        "outputId": "972333d5-ccce-4600-90ab-86656188a3cd"
      },
      "source": [
        "review_vectors = embedding_matrix[enc_review]\n",
        "review_vectors"
      ],
      "execution_count": 86,
      "outputs": [
        {
          "output_type": "execute_result",
          "data": {
            "text/plain": [
              "array([[ 0.12571646,  0.01727046],\n",
              "       [-0.23336063, -0.13114733],\n",
              "       [-0.16016819, -0.24657269],\n",
              "       [ 0.08966786,  0.05310123],\n",
              "       [ 0.016722  , -0.0007633 ],\n",
              "       [-0.07494899,  0.20123692],\n",
              "       [ 0.06066267,  0.09100237],\n",
              "       [-0.02028809,  0.14206678],\n",
              "       [-0.25551128, -0.07750598]], dtype=float32)"
            ]
          },
          "metadata": {},
          "execution_count": 86
        }
      ]
    },
    {
      "cell_type": "code",
      "metadata": {
        "colab": {
          "base_uri": "https://localhost:8080/",
          "height": 265
        },
        "id": "Ga15cR88OjlI",
        "outputId": "3b56bcac-2f47-40dc-d781-b179b53bc702"
      },
      "source": [
        "plt.scatter(review_vectors[:,0], review_vectors[:,1])\n",
        "for i, txt in enumerate(review):\n",
        "    plt.annotate(txt, (review_vectors[i,0], review_vectors[i,1]))"
      ],
      "execution_count": 87,
      "outputs": [
        {
          "output_type": "display_data",
          "data": {
            "image/png": "[encoded data removed]",
            "text/plain": [
              "<Figure size 432x288 with 1 Axes>"
            ]
          },
          "metadata": {
            "needs_background": "light"
          }
        }
      ]
    }
  ]
}